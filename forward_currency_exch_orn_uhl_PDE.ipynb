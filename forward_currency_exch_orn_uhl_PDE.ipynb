{
 "cells": [
  {
   "cell_type": "markdown",
   "metadata": {},
   "source": [
    "## Theory"
   ]
  },
  {
   "cell_type": "markdown",
   "metadata": {},
   "source": [
    "Given two rate of interest $r_d$ and $r_f$ where $r_d$ and $r_f$ are the domestic and foreign rate of interest. We can price a forward exchange rate contract according to\n",
    "\n",
    "$$\n",
    "F^X(0,T) = X_0\\frac{B^f(0,T)}{B^d(0,t)}\n",
    "$$\n",
    "where $X_0$ is the initial domestic/foreign rate of exchange and, $B^f(0,T)$ and $B^d(0,T)$ are the domestic and foreign zero-coupon bond price at time $T$.\n",
    "\n",
    "Starting with two independent Ornstein-Uhlenbeck processes to model the stochastic interest rate of the domestic and foreign interest rate;\n",
    "\n",
    "$$\n",
    "dr_t^d = \\theta^d(\\mu^d-r_t^d)dt + \\sigma^d dW_t,\n",
    "$$\n",
    "$$\n",
    "dr_t^f = \\theta^f(\\mu^f-r_t^f)dt + \\sigma^f dW_t.\n",
    "$$\n",
    "\n",
    "The analytical solution of the SDE is the following;\n",
    "$$\n",
    "r_t = r_0e^{-\\theta t} + \\mu(1-e^{-\\theta t}) + \\sigma \\int_0^t r^{-\\theta(t-s)}dW_s\n",
    "$$\n",
    "\n",
    "The initial price of a bond at time $t=0$ that expiries at time $t=T$ is given by the following formula;\n",
    "\n",
    "$$\n",
    "B(0,T) = \\mathbb{E}\\left[e^{\\left(-\\int_0^Tr_sds\\right)}\\right].\n",
    "$$\n",
    "\n",
    "According to the litterature, we can solve this anatyically via PDE which leads to\n",
    "$$\n",
    "B(0,T) = \\exp\\left\\{-A(0,T)r_0 + D(0,T)\\right\\},\n",
    "$$\n",
    "where $r_0$ is the rate of interest at time $t=0$\n",
    "$$\n",
    "A(0,T) = \\frac{1-e^{-\\theta T}}{\\theta},\n",
    "$$\n",
    "$$\n",
    "D(0,T) = \\left(\\mu - \\frac{\\sigma^2}{2\\theta^2}\\right)\\left[A(0,T)-T\\right]-\\frac{\\sigma^2A(0,T)^2}{4\\theta}.\n",
    "$$\n",
    "\n",
    "See Journal of Applied Mathematics and Decision Sciences, 8(1), 1-14 for reference."
   ]
  },
  {
   "cell_type": "markdown",
   "metadata": {},
   "source": [
    "Given initial conditions and parameters of the stochastic process for both domestic and foreign rate of interest, we can find the analytical solution for both bond prices and the forward exchange rate."
   ]
  },
  {
   "cell_type": "markdown",
   "metadata": {},
   "source": [
    "## Analytical Functions"
   ]
  },
  {
   "cell_type": "code",
   "execution_count": 1,
   "metadata": {},
   "outputs": [],
   "source": [
    "def stoc_bond_price(dynamics, contract):\n",
    "    \"\"\"\n",
    "    Function that computes the analytical zero-coupon bond price given ornstein-uhlenbeck short rate stochastic process \n",
    "    \"\"\"\n",
    "    \n",
    "    theta, mu, sigma, r0, t = dynamics.theta, dynamics.mu, dynamics.sigma, dynamics.r0, contract.T\n",
    "    \n",
    "    A = (1-np.exp(-theta*t))/theta\n",
    "    D = (mu - (sigma**2)/(2*(theta)**2))*(A-t) - ((sigma**2)*A**2)/(4*theta)\n",
    "    \n",
    "    return np.exp(-A*r0+D)\n",
    "\n",
    "def forward_exchange_rate(X0, dynamics_f, dynamics_d, contract):\n",
    "    \"\"\"\n",
    "    Function that computes the analytical price of a forward exchange rate given the parameters of 2 short rate following ornstein-uhlenbeck SDE \n",
    "    \"\"\"\n",
    "    \n",
    "    bond_f = stoc_bond_price(dynamics_f, contract)\n",
    "    bond_d = stoc_bond_price(dynamics_d, contract)\n",
    "    \n",
    "    return X0*bond_f/bond_d"
   ]
  },
  {
   "cell_type": "code",
   "execution_count": 2,
   "metadata": {},
   "outputs": [],
   "source": [
    "import numpy as np\n",
    "import bisect as bisect\n",
    "from scipy import interpolate\n",
    "from scipy.sparse import diags\n",
    "from scipy.sparse.linalg import spsolve\n",
    "from tqdm import tqdm\n",
    "import matplotlib.pyplot as plt \n",
    "import pandas as pd"
   ]
  },
  {
   "cell_type": "markdown",
   "metadata": {},
   "source": [
    "## Finite Difference Method Dynamics "
   ]
  },
  {
   "cell_type": "code",
   "execution_count": 52,
   "metadata": {},
   "outputs": [],
   "source": [
    "# Initialize values for the Dynamics for debugging purposes\n",
    "\n",
    "class Dynamics:\n",
    "    pass\n",
    "domestics_bond = Dynamics()\n",
    "domestics_bond.r0 = 0.04\n",
    "domestics_bond.theta = 3\n",
    "domestics_bond.mu = 0.05\n",
    "domestics_bond.sigma = 0.08\n",
    "\n",
    "foreign_bond = Dynamics()\n",
    "foreign_bond.r0 = 0.10\n",
    "foreign_bond.theta = 4\n",
    "foreign_bond.mu = 0.08\n",
    "foreign_bond.sigma = 0.12\n",
    "\n",
    "class Contract:\n",
    "    pass\n",
    "\n",
    "contract = Contract()\n",
    "contract.T = 2 \n",
    "\n",
    "class FD:\n",
    "    pass\n",
    "\n",
    "fd_dom = FD()\n",
    "fd_dom.rMax=0.35\n",
    "fd_dom.rMin=-0.25\n",
    "fd_dom.deltar=np.min([domestics_bond.sigma**2,0.05])\n",
    "fd_dom.deltat=contract.T/10000\n",
    "\n",
    "fd_for = FD()\n",
    "fd_for.rMax=0.35\n",
    "fd_for.rMin=-0.25\n",
    "fd_for.deltar=np.min([foreign_bond.sigma**2,0.05])\n",
    "fd_for.deltat=contract.T/10000"
   ]
  },
  {
   "cell_type": "markdown",
   "metadata": {},
   "source": [
    "Given that \n",
    "$$\n",
    "dr_t = \\alpha(r_t,t)dt + \\beta(r_t,t)dW_t\n",
    "$$\n",
    "\n",
    "We have that \n",
    "$$\n",
    "dC_t = \\frac{\\partial C}{\\partial t}dt + \\frac{\\partial C}{\\partial r} dr_t + \\frac{1}{2}\\frac{\\partial^2 C}{\\partial r^2}d<r>_t\n",
    "$$\n",
    "\n",
    "$$\n",
    "= \\left[ \\frac{\\partial C}{\\partial t} + \\alpha \\frac{\\partial C}{\\partial r} + \\frac{1}{2}\\beta^2\\frac{\\partial^2 C}{\\partial r^2}\\right]dt + \\beta \\frac{\\partial C}{\\partial r}dW_t\n",
    "$$\n",
    "\n",
    "$$\n",
    "\\frac{\\partial C}{\\partial t} + \\alpha(r_t,t)\\frac{\\partial C}{\\partial r} + \\frac{1}{2}\\beta(r_t,t)^2\\frac{\\partial^2 C}{\\partial r^2} - r_tC_t = 0 \n",
    "$$\n",
    "\n",
    "We are now given that $\\alpha(r_t,t) = \\theta(\\mu - r_t)$ and $\\beta(r_t,t) = \\sigma$, which leads to the following PDE:\n",
    "\n",
    "$$\n",
    "\\frac{\\partial C}{\\partial t} + \\left[\\theta(\\mu - r_t) \\right]\\frac{\\partial C}{\\partial r} + \\frac{\\sigma^2}{2}\\frac{\\partial^2 C}{\\partial r^2} - r_tC = 0\n",
    "$$\n",
    "\n",
    "Define $\\nu = \\theta(\\mu - r_t)$ and use the central-difference explicit finite difference scheme to the PDE.\n",
    "\n",
    "$$\n",
    "\\frac{\\partial C}{\\partial t} + \\nu\\frac{\\partial C}{\\partial r} + \\frac{\\sigma^2}{2}\\frac{\\partial^2 C}{\\partial r^2} - r_tC = 0\n",
    "$$"
   ]
  },
  {
   "cell_type": "markdown",
   "metadata": {},
   "source": [
    "## Intermediate functions"
   ]
  },
  {
   "cell_type": "code",
   "execution_count": 4,
   "metadata": {},
   "outputs": [],
   "source": [
    "def two_closest(lst, K): \n",
    "    \"\"\"\n",
    "    Function that find the closest upper and lower element in an array\n",
    "    \"\"\"\n",
    "    \n",
    "    pos_arr = lst[(lst-K) >0]\n",
    "    neg_arr = lst[(K-lst) > 0]\n",
    "    \n",
    "    min_val = neg_arr[(np.abs(neg_arr - K)).argmin()]\n",
    "    max_val = pos_arr[(np.abs(pos_arr - K)).argmin()]\n",
    "    \n",
    "    return min_val, max_val\n",
    "\n",
    "def interpolate_rate(r_arr, bondprice, r0):\n",
    "    \"\"\"\n",
    "    Find the interpolate value of a \n",
    "    \"\"\"\n",
    "    \n",
    "    r_low, r_high = two_closest(r_arr, r0)\n",
    "    bond_low = bondprice[np.where(r_arr == r_low)[0][0]]\n",
    "    bond_high = bondprice[np.where(r_arr == r_high)[0][0]]\n",
    "    \n",
    "    x = [r_low, r_high]\n",
    "    y = [bond_low, bond_high]\n",
    "    \n",
    "    f = interpolate.interp1d(x,y)\n",
    "    \n",
    "    return f(r0)\n"
   ]
  },
  {
   "cell_type": "markdown",
   "metadata": {},
   "source": [
    "## Pricing Functions "
   ]
  },
  {
   "cell_type": "code",
   "execution_count": 5,
   "metadata": {},
   "outputs": [],
   "source": [
    "def pricer_bond_vasicek_explicitFD(contract,dynamics,fd):\n",
    "    \n",
    "    \"\"\"\n",
    "    returns array of all initial short rates,\n",
    "    and the corresponding array of zero-coupon\n",
    "    T-maturity bond prices\n",
    "    \"\"\" \n",
    "\n",
    "    T = contract.T\n",
    "    theta, mu, sigma = dynamics.theta, dynamics.mu, dynamics.sigma    \n",
    "    rMax, rMin, deltar, deltat = fd.rMax, fd.rMin, fd.deltar, fd.deltat    \n",
    "    N=round(T/deltat)\n",
    "    if abs(N-T/deltat) > 1e-12:\n",
    "        raise ValueError(\"Bad delta t\")\n",
    "        \n",
    "    r=np.arange(rMax,rMin-deltar/2,-deltar)   \n",
    "    bondprice=np.ones(np.size(r))\n",
    "    \n",
    "    v = theta*(mu-r)\n",
    "    \n",
    "    qu=    0.5*((sigma**2*deltat)/(deltar**2)+(v*deltat)/(deltar))\n",
    "    qd=    0.5*((sigma**2*deltat)/(deltar**2)-(v*deltat)/(deltar))\n",
    "    qm=    1-qu-qd\n",
    "\n",
    "    for t in np.arange(N-1,-1,-1)*deltat:\n",
    "        bondprice=1/(1+r*deltat)*(qd*np.roll(bondprice,-1)+qm*bondprice+qu*np.roll(bondprice,1))\n",
    "        \n",
    "        # so let us impose \"linearity\" boundary conditions\n",
    "        bondprice[0]=2*bondprice[1]-bondprice[2]\n",
    "        bondprice[-1]=2*bondprice[-2]-bondprice[-3]\n",
    "        \n",
    "    return (r, bondprice)"
   ]
  },
  {
   "cell_type": "code",
   "execution_count": 6,
   "metadata": {},
   "outputs": [],
   "source": [
    "def price_zero_coupon_vasicek_bond_pde_fd(contract, dynamics, fd):\n",
    "    \"\"\"\n",
    "    Returns the price of the zero-coupon vasicek bond given the contract and dynamics\n",
    "    \"\"\"\n",
    "    \n",
    "    r, bondprice = pricer_bond_vasicek_explicitFD(contract,dynamics,fd)\n",
    "    \n",
    "    return interpolate_rate(r, bondprice, dynamics.r0)\n",
    "\n",
    "def price_forward_currency_contract_pde_fd(X0, contract, dynamics_f, dynamics_d, fd_f, fd_d):\n",
    "    \"\"\"\n",
    "    Returns the price of forward currency contract for two independent vasicek bond under a contract and dynamics\n",
    "    \"\"\"\n",
    "    \n",
    "    bond_f = price_zero_coupon_vasicek_bond_pde_fd(contract,dynamics_f,fd_f)\n",
    "    bond_d = price_zero_coupon_vasicek_bond_pde_fd(contract,dynamics_d,fd_d)\n",
    "    \n",
    "    return X0 * bond_f/bond_d"
   ]
  },
  {
   "cell_type": "markdown",
   "metadata": {},
   "source": [
    "## In this subsection we will compute the forward currency contract price for various value of volatilities and compare it to the analytical result."
   ]
  },
  {
   "cell_type": "code",
   "execution_count": 69,
   "metadata": {},
   "outputs": [
    {
     "name": "stderr",
     "output_type": "stream",
     "text": [
      "100%|██████████████████████████████████████████████████████████████████████████████| 1000/1000 [12:42<00:00,  1.31it/s]\n",
      "100%|███████████████████████████████████████████████████████████████████████████| 1000/1000 [00:00<00:00, 50130.92it/s]\n"
     ]
    }
   ],
   "source": [
    "N=1000\n",
    "X0 = 1.3\n",
    "\n",
    "sigma_f = np.linspace(0.05,0.50, N)\n",
    "pde_fx_forward = np.zeros(N)\n",
    "analytical_fx_forward = np.zeros(N)\n",
    "\n",
    "# Two loops to be able to time the time it takes to solve via the finite-difference method and the analytical solution\n",
    "for i, sigma in enumerate(tqdm(sigma_f)):\n",
    "    foreign_bond.sigma = sigma\n",
    "    \n",
    "    pde_sol = price_forward_currency_contract_pde_fd(X0, contract, foreign_bond, domestics_bond, fd_for, fd_dom)\n",
    "    pde_fx_forward[i] = pde_sol\n",
    "\n",
    "\n",
    "for i, sigma in enumerate(tqdm(sigma_f)):\n",
    "    foreign_bond.sigma = sigma\n",
    "    \n",
    "    analytical_sol = forward_exchange_rate(X0, foreign_bond, domestics_bond, contract)\n",
    "    analytical_fx_forward[i] = analytical_sol    "
   ]
  },
  {
   "cell_type": "code",
   "execution_count": 75,
   "metadata": {},
   "outputs": [
    {
     "data": {
      "image/png": "[encoded data removed]",
      "text/plain": [
       "<Figure size 1152x720 with 1 Axes>"
      ]
     },
     "metadata": {
      "needs_background": "light"
     },
     "output_type": "display_data"
    }
   ],
   "source": [
    "df = pd.DataFrame()\n",
    "df['Volatility'] = sigma_f\n",
    "df['PDE'] = pde_fx_forward\n",
    "df['FX_real'] = analytical_fx_forward\n",
    "df.set_index('Volatility', inplace = True)\n",
    "\n",
    "ax = df.plot(lw=1, colormap='plasma', marker='.', markersize=4, title='Price of Forward FX Contract FX(0) = 1.3, T=2', figsize = (16,10))\n",
    "ax.set_xlabel(\"Annualized Volatility Foreign Rate of Interest\")\n",
    "ax.set_ylabel(\"Price of Contract $\")\n",
    "plt.show()"
   ]
  },
  {
   "cell_type": "code",
   "execution_count": 76,
   "metadata": {},
   "outputs": [
    {
     "data": {
      "image/png": "[encoded data removed]",
      "text/plain": [
       "<Figure size 1152x720 with 1 Axes>"
      ]
     },
     "metadata": {
      "needs_background": "light"
     },
     "output_type": "display_data"
    }
   ],
   "source": [
    "error_rate = (np.abs(pde_fx_forward-analytical_fx_forward))/analytical_fx_forward\n",
    "df2 = pd.DataFrame()\n",
    "df2['Volatility'] = sigma_f\n",
    "df2['Relative Error Rate'] = error_rate\n",
    "df2.set_index('Volatility', inplace = True)\n",
    "\n",
    "ax2 = df2.plot(lw=1, colormap='plasma', marker='.', markersize=4, title='Price of Forward FX Contract FX(0) = 1.3, T=2', figsize = (16,10))\n",
    "ax2.set_xlabel(\"Annualized Volatility Foreign Rate of Interest\")\n",
    "ax2.set_ylabel(\"Relative Error Rate in % to the benchmark\")\n",
    "plt.show()"
   ]
  },
  {
   "cell_type": "code",
   "execution_count": null,
   "metadata": {},
   "outputs": [],
   "source": []
  }
 ],
 "metadata": {
  "kernelspec": {
   "display_name": "Python 3",
   "language": "python",
   "name": "python3"
  },
  "language_info": {
   "codemirror_mode": {
    "name": "ipython",
    "version": 3
   },
   "file_extension": ".py",
   "mimetype": "text/x-python",
   "name": "python",
   "nbconvert_exporter": "python",
   "pygments_lexer": "ipython3",
   "version": "3.8.5"
  }
 },
 "nbformat": 4,
 "nbformat_minor": 4
}
